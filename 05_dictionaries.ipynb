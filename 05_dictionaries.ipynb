{
 "cells": [
  {
   "cell_type": "markdown",
   "metadata": {},
   "source": [
    "Printed copies of *Elements of Data Science* are available now, with a **full color interior**, from [Lulu.com](https://www.lulu.com/shop/allen-downey/elements-of-data-science/paperback/product-9dyrwn.html)."
   ]
  },
  {
   "cell_type": "markdown",
   "metadata": {},
   "source": [
    "# Dictionaries"
   ]
  },
  {
   "cell_type": "markdown",
   "metadata": {
    "tags": []
   },
   "source": [
    "[Click here to run this notebook on Colab](https://colab.research.google.com/github/AllenDowney/ElementsOfDataScience/blob/v1/05_dictionaries.ipynb) or\n",
    "[click here to download it](https://github.com/AllenDowney/ElementsOfDataScience/raw/v1/05_dictionaries.ipynb)."
   ]
  },
  {
   "cell_type": "code",
   "execution_count": 1,
   "metadata": {
    "tags": []
   },
   "outputs": [],
   "source": [
    "from os.path import basename, exists\n",
    "\n",
    "def download(url):\n",
    "    filename = basename(url)\n",
    "    if not exists(filename):\n",
    "        from urllib.request import urlretrieve\n",
    "\n",
    "        local, _ = urlretrieve(url, filename)\n",
    "        print(\"Downloaded \" + str(local))\n",
    "    return filename\n",
    "\n",
    "download('https://github.com/AllenDowney/ElementsOfDataScience/raw/v1/utils.py')\n",
    "\n",
    "import utils"
   ]
  },
  {
   "cell_type": "markdown",
   "metadata": {},
   "source": [
    "In the previous chapter we used a `for` loop to read a file and count the words.\n",
    "In this chapter we'll count the number of *unique* words and the number of times each one appears.\n",
    "To do that, we'll use one of Python's most useful features, a **dictionary**.\n",
    "\n",
    "You will also see how to select an element from a sequence (tuple, list, or array).  And you will learn a little about Unicode, which is used to represent letters, numbers, and punctuation for almost every language in the world."
   ]
  },
  {
   "cell_type": "markdown",
   "metadata": {},
   "source": [
    "## Indexing\n",
    "\n",
    "Suppose you have a variable named `t` that refers to a list or tuple.\n",
    "You can select an element using the **bracket operator**, `[]`.\n",
    "For example, here's a tuple of strings:"
   ]
  },
  {
   "cell_type": "code",
   "execution_count": 2,
   "metadata": {},
   "outputs": [],
   "source": [
    "t = ('zero', 'one', 'two')"
   ]
  },
  {
   "cell_type": "markdown",
   "metadata": {},
   "source": [
    "To select the first element, we put `0` in brackets:"
   ]
  },
  {
   "cell_type": "code",
   "execution_count": 3,
   "metadata": {},
   "outputs": [
    {
     "name": "stdout",
     "output_type": "stream",
     "text": [
      "zero\n"
     ]
    }
   ],
   "source": [
    "print(t[0])"
   ]
  },
  {
   "cell_type": "markdown",
   "metadata": {},
   "source": [
    "To select the second element, we put `1` in brackets:"
   ]
  },
  {
   "cell_type": "code",
   "execution_count": 4,
   "metadata": {},
   "outputs": [
    {
     "data": {
      "text/plain": [
       "'one'"
      ]
     },
     "execution_count": 4,
     "metadata": {},
     "output_type": "execute_result"
    }
   ],
   "source": [
    "t[1]"
   ]
  },
  {
   "cell_type": "markdown",
   "metadata": {},
   "source": [
    "\n",
    "To select the third element, we put `2` in brackets:"
   ]
  },
  {
   "cell_type": "code",
   "execution_count": 5,
   "metadata": {},
   "outputs": [
    {
     "data": {
      "text/plain": [
       "'two'"
      ]
     },
     "execution_count": 5,
     "metadata": {},
     "output_type": "execute_result"
    }
   ],
   "source": [
    "t[2]"
   ]
  },
  {
   "cell_type": "markdown",
   "metadata": {},
   "source": [
    "The number in brackets is called an **index** because it indicates which element we want.\n",
    "Tuples and lists use zero-based numbering -- that is, the index of the first element is 0.  Some other programming languages use one-based numbering.\n",
    "\n",
    "The index in brackets can also be a variable:"
   ]
  },
  {
   "cell_type": "code",
   "execution_count": 6,
   "metadata": {},
   "outputs": [
    {
     "data": {
      "text/plain": [
       "'one'"
      ]
     },
     "execution_count": 6,
     "metadata": {},
     "output_type": "execute_result"
    }
   ],
   "source": [
    "i = 1\n",
    "t[i]"
   ]
  },
  {
   "cell_type": "markdown",
   "metadata": {},
   "source": [
    "Or an expression with variables, values, and operators:"
   ]
  },
  {
   "cell_type": "code",
   "execution_count": 7,
   "metadata": {},
   "outputs": [
    {
     "data": {
      "text/plain": [
       "'two'"
      ]
     },
     "execution_count": 7,
     "metadata": {},
     "output_type": "execute_result"
    }
   ],
   "source": [
    "t[i+1]"
   ]
  },
  {
   "cell_type": "markdown",
   "metadata": {},
   "source": [
    "But if the index goes past the end of the sequence, you get an error."
   ]
  },
  {
   "cell_type": "code",
   "execution_count": 8,
   "metadata": {
    "tags": []
   },
   "outputs": [
    {
     "ename": "IndexError",
     "evalue": "tuple index out of range",
     "output_type": "error",
     "traceback": [
      "\u001b[1;31mIndexError\u001b[0m\u001b[1;31m:\u001b[0m tuple index out of range\n"
     ]
    }
   ],
   "source": [
    "%%expect IndexError\n",
    "\n",
    "t[3]"
   ]
  },
  {
   "cell_type": "markdown",
   "metadata": {},
   "source": [
    "Also, the index has to be an integer -- if it is any other type, you get an error."
   ]
  },
  {
   "cell_type": "code",
   "execution_count": 9,
   "metadata": {
    "tags": []
   },
   "outputs": [
    {
     "ename": "TypeError",
     "evalue": "tuple indices must be integers or slices, not float",
     "output_type": "error",
     "traceback": [
      "\u001b[1;31mTypeError\u001b[0m\u001b[1;31m:\u001b[0m tuple indices must be integers or slices, not float\n"
     ]
    }
   ],
   "source": [
    "%%expect TypeError\n",
    "\n",
    "t[1.5]"
   ]
  },
  {
   "cell_type": "code",
   "execution_count": 10,
   "metadata": {
    "tags": []
   },
   "outputs": [
    {
     "ename": "TypeError",
     "evalue": "tuple indices must be integers or slices, not str",
     "output_type": "error",
     "traceback": [
      "\u001b[1;31mTypeError\u001b[0m\u001b[1;31m:\u001b[0m tuple indices must be integers or slices, not str\n"
     ]
    }
   ],
   "source": [
    "%%expect TypeError\n",
    "\n",
    "t['1']"
   ]
  },
  {
   "cell_type": "markdown",
   "metadata": {},
   "source": [
    "**Exercise:** You can use negative integers as indices.  Try using `-1` and `-2` as indices, and see if you can figure out what they do. "
   ]
  },
  {
   "cell_type": "code",
   "execution_count": 11,
   "metadata": {},
   "outputs": [
    {
     "data": {
      "text/plain": [
       "'zero'"
      ]
     },
     "execution_count": 11,
     "metadata": {},
     "output_type": "execute_result"
    }
   ],
   "source": [
    "# Solution goes here\n",
    "t[-3]"
   ]
  },
  {
   "cell_type": "code",
   "execution_count": 12,
   "metadata": {},
   "outputs": [
    {
     "data": {
      "text/plain": [
       "'one'"
      ]
     },
     "execution_count": 12,
     "metadata": {},
     "output_type": "execute_result"
    }
   ],
   "source": [
    "# Solution goes here\n",
    "t[-2]"
   ]
  },
  {
   "cell_type": "markdown",
   "metadata": {},
   "source": [
    "## Dictionaries\n",
    "\n",
    "A dictionary is similar to a tuple or list, but in a dictionary, the index can be almost any type, not just an integer.\n",
    "We can create an empty dictionary like this:"
   ]
  },
  {
   "cell_type": "code",
   "execution_count": 13,
   "metadata": {},
   "outputs": [],
   "source": [
    "d = {}"
   ]
  },
  {
   "cell_type": "markdown",
   "metadata": {},
   "source": [
    "Then we can add elements like this:"
   ]
  },
  {
   "cell_type": "code",
   "execution_count": 14,
   "metadata": {},
   "outputs": [],
   "source": [
    "d['one'] = 1\n",
    "d['two'] = 2"
   ]
  },
  {
   "cell_type": "markdown",
   "metadata": {},
   "source": [
    "In this example, the indices are the strings, `'one'` and `'two'`.\n",
    "If you display the dictionary, it shows each index and the corresponding value. "
   ]
  },
  {
   "cell_type": "code",
   "execution_count": 15,
   "metadata": {},
   "outputs": [
    {
     "data": {
      "text/plain": [
       "{'one': 1, 'two': 2}"
      ]
     },
     "execution_count": 15,
     "metadata": {},
     "output_type": "execute_result"
    }
   ],
   "source": [
    "d"
   ]
  },
  {
   "cell_type": "markdown",
   "metadata": {},
   "source": [
    "Instead of creating an empty dictionary and then adding elements, you can create a dictionary and specify the elements at the same time:"
   ]
  },
  {
   "cell_type": "code",
   "execution_count": 16,
   "metadata": {},
   "outputs": [
    {
     "name": "stdout",
     "output_type": "stream",
     "text": [
      "<class 'dict'>\n"
     ]
    }
   ],
   "source": [
    "d = {'one': [1], 'two': [2], 'three': [3]}\n",
    "print(type(d))"
   ]
  },
  {
   "cell_type": "markdown",
   "metadata": {},
   "source": [
    "When we are talking about dictionaries, an index is usually called a **key**.  In this example, the keys are strings and the corresponding values are integers.\n",
    "A dictionary is also called a **map**, because it represents a correspondence or \"mapping\", between keys and values.\n",
    "So we might say that this dictionary maps from English number names to the corresponding integers.\n",
    "\n",
    "You can use the bracket operator to select an element from a dictionary, like this:"
   ]
  },
  {
   "cell_type": "code",
   "execution_count": 17,
   "metadata": {},
   "outputs": [
    {
     "name": "stdout",
     "output_type": "stream",
     "text": [
      "[2]\n"
     ]
    }
   ],
   "source": [
    "print(d['two'])"
   ]
  },
  {
   "cell_type": "markdown",
   "metadata": {},
   "source": [
    "But don't forget the quotation marks.\n",
    "Without them, Python looks for a variable named `two` and doesn't find one."
   ]
  },
  {
   "cell_type": "code",
   "execution_count": 18,
   "metadata": {
    "tags": []
   },
   "outputs": [
    {
     "ename": "NameError",
     "evalue": "name 'two' is not defined",
     "output_type": "error",
     "traceback": [
      "\u001b[1;31mNameError\u001b[0m\u001b[1;31m:\u001b[0m name 'two' is not defined\n"
     ]
    }
   ],
   "source": [
    "%%expect NameError\n",
    "\n",
    "d[two]"
   ]
  },
  {
   "cell_type": "markdown",
   "metadata": {},
   "source": [
    "To check whether a particular key is in a dictionary, you can use the `in` operator:"
   ]
  },
  {
   "cell_type": "code",
   "execution_count": 19,
   "metadata": {},
   "outputs": [
    {
     "data": {
      "text/plain": [
       "True"
      ]
     },
     "execution_count": 19,
     "metadata": {},
     "output_type": "execute_result"
    }
   ],
   "source": [
    "'one' in d"
   ]
  },
  {
   "cell_type": "code",
   "execution_count": 20,
   "metadata": {},
   "outputs": [
    {
     "data": {
      "text/plain": [
       "False"
      ]
     },
     "execution_count": 20,
     "metadata": {},
     "output_type": "execute_result"
    }
   ],
   "source": [
    "'zero' in d"
   ]
  },
  {
   "cell_type": "markdown",
   "metadata": {},
   "source": [
    "Because the word `in` is an operator in Python, you can't use it as a variable name."
   ]
  },
  {
   "cell_type": "code",
   "execution_count": 21,
   "metadata": {
    "tags": []
   },
   "outputs": [
    {
     "ename": "SyntaxError",
     "evalue": "invalid syntax (540798210.py, line 1)",
     "output_type": "error",
     "traceback": [
      "\u001b[1;36m  Cell \u001b[1;32mIn[21], line 1\u001b[1;36m\u001b[0m\n\u001b[1;33m    in = 5\u001b[0m\n\u001b[1;37m    ^\u001b[0m\n\u001b[1;31mSyntaxError\u001b[0m\u001b[1;31m:\u001b[0m invalid syntax\n"
     ]
    }
   ],
   "source": [
    "%%expect SyntaxError\n",
    "\n",
    "in = 5"
   ]
  },
  {
   "cell_type": "markdown",
   "metadata": {},
   "source": [
    "Each key in a dictionary can only appear once.\n",
    "Adding the same key again has no effect:"
   ]
  },
  {
   "cell_type": "code",
   "execution_count": 22,
   "metadata": {
    "tags": []
   },
   "outputs": [
    {
     "data": {
      "text/plain": [
       "{'one': [1], 'two': [2], 'three': [3]}"
      ]
     },
     "execution_count": 22,
     "metadata": {},
     "output_type": "execute_result"
    }
   ],
   "source": [
    "d"
   ]
  },
  {
   "cell_type": "code",
   "execution_count": 23,
   "metadata": {},
   "outputs": [
    {
     "data": {
      "text/plain": [
       "{'one': 1, 'two': [2], 'three': [3]}"
      ]
     },
     "execution_count": 23,
     "metadata": {},
     "output_type": "execute_result"
    }
   ],
   "source": [
    "d['one'] = 1\n",
    "d"
   ]
  },
  {
   "cell_type": "markdown",
   "metadata": {},
   "source": [
    "But you can change the value associated with a key:"
   ]
  },
  {
   "cell_type": "code",
   "execution_count": 24,
   "metadata": {},
   "outputs": [
    {
     "data": {
      "text/plain": [
       "{'one': 100, 'two': [2], 'three': [3]}"
      ]
     },
     "execution_count": 24,
     "metadata": {},
     "output_type": "execute_result"
    }
   ],
   "source": [
    "d['one'] = 100\n",
    "d"
   ]
  },
  {
   "cell_type": "markdown",
   "metadata": {},
   "source": [
    "You can loop through the keys in a dictionary like this:"
   ]
  },
  {
   "cell_type": "code",
   "execution_count": 25,
   "metadata": {},
   "outputs": [
    {
     "name": "stdout",
     "output_type": "stream",
     "text": [
      "one\n",
      "two\n",
      "three\n"
     ]
    }
   ],
   "source": [
    "for key in d:\n",
    "    print(key)"
   ]
  },
  {
   "cell_type": "markdown",
   "metadata": {},
   "source": [
    "If you want the keys and the values, one way to get them is to loop through the keys and look up the values:"
   ]
  },
  {
   "cell_type": "code",
   "execution_count": 26,
   "metadata": {},
   "outputs": [
    {
     "name": "stdout",
     "output_type": "stream",
     "text": [
      "one 100\n",
      "two [2]\n",
      "three [3]\n"
     ]
    }
   ],
   "source": [
    "for key in d:\n",
    "    print(key, d[key])"
   ]
  },
  {
   "cell_type": "markdown",
   "metadata": {},
   "source": [
    "Or you can loop through both at the same time, like this:"
   ]
  },
  {
   "cell_type": "code",
   "execution_count": 27,
   "metadata": {},
   "outputs": [
    {
     "name": "stdout",
     "output_type": "stream",
     "text": [
      "one 100\n",
      "two [2]\n",
      "three [3]\n"
     ]
    }
   ],
   "source": [
    "for key, value in d.items():\n",
    "    print(key, value)"
   ]
  },
  {
   "cell_type": "markdown",
   "metadata": {},
   "source": [
    "The `items` method loops through the key-value pairs in the dictionary.\n",
    "Each time through the loop, they are assigned to `key` and `value`."
   ]
  },
  {
   "cell_type": "markdown",
   "metadata": {},
   "source": [
    "**Exercise:** Make a dictionary with the integers `1`, `2`, and `3` as keys and strings as values.  The strings should be the words \"one\", \"two\", and \"three\" or their equivalents in any language you know.\n",
    "\n",
    "Write a loop that prints just the values from the dictionary."
   ]
  },
  {
   "cell_type": "code",
   "execution_count": 28,
   "metadata": {},
   "outputs": [],
   "source": [
    "# Solution goes here"
   ]
  },
  {
   "cell_type": "code",
   "execution_count": 29,
   "metadata": {},
   "outputs": [],
   "source": [
    "# Solution goes here"
   ]
  },
  {
   "cell_type": "code",
   "execution_count": 30,
   "metadata": {},
   "outputs": [],
   "source": [
    "# Solution goes here"
   ]
  },
  {
   "cell_type": "markdown",
   "metadata": {},
   "source": [
    "## Counting Unique Words\n",
    "\n",
    "In the previous chapter we downloaded *War and Peace* from Project Gutenberg and counted the number of lines and words.\n",
    "Now that we have dictionaries, we can also count the number of unique words and the number of times each one appears."
   ]
  },
  {
   "cell_type": "markdown",
   "metadata": {
    "tags": []
   },
   "source": [
    "When you run the following cell, it checks to see whether you already have a file named `2600-0.txt`, which is the name of the file that contains the text of *War and Peace*.\n",
    "If not, it copies the file to your computer.\n",
    "The file is [originally from Project Gutenberg](https://www.gutenberg.org/files/2600/2600-0.txt), but I put a slightly cleaned up version of it in the repository for this book."
   ]
  },
  {
   "cell_type": "code",
   "execution_count": 31,
   "metadata": {
    "tags": []
   },
   "outputs": [],
   "source": [
    "download('https://github.com/AllenDowney/ElementsOfDataScience/raw/v1/data/2600-0.txt');"
   ]
  },
  {
   "cell_type": "markdown",
   "metadata": {},
   "source": [
    "As we did in the previous chapter, we can read the text of *War and Peace* and count the number of words."
   ]
  },
  {
   "cell_type": "code",
   "execution_count": 32,
   "metadata": {},
   "outputs": [
    {
     "data": {
      "text/plain": [
       "566316"
      ]
     },
     "execution_count": 32,
     "metadata": {},
     "output_type": "execute_result"
    }
   ],
   "source": [
    "fp = open('2600-0.txt', encoding='utf 8')\n",
    "count = 0\n",
    "for line in fp:\n",
    "    count += len(line.split())\n",
    "    \n",
    "count"
   ]
  },
  {
   "cell_type": "markdown",
   "metadata": {},
   "source": [
    "To count the number of unique words, we'll loop through the words in each line and add them as keys in a dictionary:"
   ]
  },
  {
   "cell_type": "code",
   "execution_count": 33,
   "metadata": {},
   "outputs": [],
   "source": [
    "fp = open('2600-0.txt', encoding='utf 8')\n",
    "unique_words = {}\n",
    "for line in fp:\n",
    "    for word in line.split():\n",
    "        unique_words[word] = 1"
   ]
  },
  {
   "cell_type": "code",
   "execution_count": 34,
   "metadata": {},
   "outputs": [
    {
     "data": {
      "text/plain": [
       "41990"
      ]
     },
     "execution_count": 34,
     "metadata": {},
     "output_type": "execute_result"
    }
   ],
   "source": [
    "len(unique_words)"
   ]
  },
  {
   "cell_type": "markdown",
   "metadata": {},
   "source": [
    "This is the first example we've seen with one loop **nested** inside another.\n",
    "\n",
    "* The outer loop runs through the lines in the file.\n",
    "\n",
    "* The inner loops runs through the words in each line.\n",
    "\n",
    "Each time through the inner loop, we add a word as a key in the dictionary, with the value `1`.\n",
    "If a word that is already in the dictionary appears again, adding it to the dictionary again has no effect.\n",
    "So the dictionary gets only one copy of each unique word in the file.\n",
    "At the end of the loop, we can display the first eight keys like this."
   ]
  },
  {
   "cell_type": "code",
   "execution_count": 35,
   "metadata": {},
   "outputs": [
    {
     "data": {
      "text/plain": [
       "['The', 'Project', 'Gutenberg', 'EBook', 'of', 'War', 'and', 'Peace,']"
      ]
     },
     "execution_count": 35,
     "metadata": {},
     "output_type": "execute_result"
    }
   ],
   "source": [
    "list(unique_words)[:8]"
   ]
  },
  {
   "cell_type": "markdown",
   "metadata": {},
   "source": [
    "The `list` function puts the keys from the dictionary in a list.\n",
    "In the bracket operator, `:8` is a special index called a *slice* that selects the first eight elements.\n",
    "\n",
    "Each word only appears once, so the number of keys is the number of unique words."
   ]
  },
  {
   "cell_type": "code",
   "execution_count": 36,
   "metadata": {},
   "outputs": [
    {
     "data": {
      "text/plain": [
       "41990"
      ]
     },
     "execution_count": 36,
     "metadata": {},
     "output_type": "execute_result"
    }
   ],
   "source": [
    "len(unique_words)"
   ]
  },
  {
   "cell_type": "markdown",
   "metadata": {},
   "source": [
    "There are about 42,000 different words in the book, which is substantially less than the total number of words, about 560,000.\n",
    "But this count is not correct yet, because we have not taken into account capitalization and punctuation."
   ]
  },
  {
   "cell_type": "markdown",
   "metadata": {},
   "source": [
    "**Exercise:** Before we deal with those problems, let's practice with nested loops -- that is, one loop inside another.\n",
    "Suppose you have a list of words, like this:"
   ]
  },
  {
   "cell_type": "code",
   "execution_count": 37,
   "metadata": {},
   "outputs": [],
   "source": [
    "line = ['War', 'and', 'Peace']"
   ]
  },
  {
   "cell_type": "markdown",
   "metadata": {},
   "source": [
    "Write a nested loop that iterates through each word in the list, and each letter in each word, and prints the letters on separate lines."
   ]
  },
  {
   "cell_type": "code",
   "execution_count": 38,
   "metadata": {},
   "outputs": [
    {
     "name": "stdout",
     "output_type": "stream",
     "text": [
      "W\n",
      "a\n",
      "r\n",
      "a\n",
      "n\n",
      "d\n",
      "P\n",
      "e\n",
      "a\n",
      "c\n",
      "e\n"
     ]
    }
   ],
   "source": [
    "# Solution goes here\n",
    "uniq = {}\n",
    "for word1 in line:\n",
    "    for letter in word1:\n",
    "       uniq[letter] = 1\n",
    "       print(letter)"
   ]
  },
  {
   "cell_type": "code",
   "execution_count": 39,
   "metadata": {},
   "outputs": [
    {
     "data": {
      "text/plain": [
       "{'W': 1, 'a': 1, 'r': 1, 'n': 1, 'd': 1, 'P': 1, 'e': 1, 'c': 1}"
      ]
     },
     "execution_count": 39,
     "metadata": {},
     "output_type": "execute_result"
    }
   ],
   "source": [
    "(uniq)"
   ]
  },
  {
   "cell_type": "markdown",
   "metadata": {},
   "source": [
    "## Dealing with Capitalization\n",
    "\n",
    "When we count unique words, we probably want to treat `The` and `the` as the same word.  We can do that by converting all words to lower case, using the `lower` function:"
   ]
  },
  {
   "cell_type": "code",
   "execution_count": 40,
   "metadata": {},
   "outputs": [
    {
     "data": {
      "text/plain": [
       "'the'"
      ]
     },
     "execution_count": 40,
     "metadata": {},
     "output_type": "execute_result"
    }
   ],
   "source": [
    "word = 'The'\n",
    "word.lower()"
   ]
  },
  {
   "cell_type": "markdown",
   "metadata": {},
   "source": [
    "`lower` creates a new string; it does not modify the original string.  "
   ]
  },
  {
   "cell_type": "code",
   "execution_count": 41,
   "metadata": {},
   "outputs": [
    {
     "data": {
      "text/plain": [
       "'The'"
      ]
     },
     "execution_count": 41,
     "metadata": {},
     "output_type": "execute_result"
    }
   ],
   "source": [
    "word"
   ]
  },
  {
   "cell_type": "markdown",
   "metadata": {},
   "source": [
    "However, you can assign the new string back to the existing variable, like this:"
   ]
  },
  {
   "cell_type": "code",
   "execution_count": 42,
   "metadata": {},
   "outputs": [],
   "source": [
    "word = word.lower()"
   ]
  },
  {
   "cell_type": "markdown",
   "metadata": {},
   "source": [
    "Now if we can display the new value of `word`, we get the lowercase version:"
   ]
  },
  {
   "cell_type": "code",
   "execution_count": 43,
   "metadata": {},
   "outputs": [
    {
     "data": {
      "text/plain": [
       "'the'"
      ]
     },
     "execution_count": 43,
     "metadata": {},
     "output_type": "execute_result"
    }
   ],
   "source": [
    "word"
   ]
  },
  {
   "cell_type": "markdown",
   "metadata": {},
   "source": [
    "**Exercise:** Modify the previous loop so it makes a lowercase version of each word before adding it to the dictionary.  How many unique words are there, if we ignore the difference between uppercase and lowercase?"
   ]
  },
  {
   "cell_type": "code",
   "execution_count": 44,
   "metadata": {},
   "outputs": [
    {
     "data": {
      "text/plain": [
       "40130"
      ]
     },
     "execution_count": 44,
     "metadata": {},
     "output_type": "execute_result"
    }
   ],
   "source": [
    "# Solution goes here\n",
    "fp2 = open('2600-0.txt', encoding='utf 8')\n",
    "unique_words_all_lower = {}\n",
    "for line2 in fp2:\n",
    "    for word2 in line2.split():\n",
    "        unique_words_all_lower[word2.lower()] = 1\n",
    "len(unique_words_all_lower)"
   ]
  },
  {
   "cell_type": "markdown",
   "metadata": {},
   "source": [
    "## Removing Punctuation\n",
    "\n",
    "To remove punctuation from the words, we can use `strip`, which removes characters from the beginning and end of a string.\n",
    "Here's an example:"
   ]
  },
  {
   "cell_type": "code",
   "execution_count": 45,
   "metadata": {},
   "outputs": [
    {
     "data": {
      "text/plain": [
       "'racadabr'"
      ]
     },
     "execution_count": 45,
     "metadata": {},
     "output_type": "execute_result"
    }
   ],
   "source": [
    "word = 'abracadabra'\n",
    "word.strip('ab')"
   ]
  },
  {
   "cell_type": "markdown",
   "metadata": {},
   "source": [
    "In this example, `strip` removes all instances of `a` and `b` from the beginning and end of the word, but not from the middle.\n",
    "Like `lower`, this function makes a new word -- it doesn't modify the original:"
   ]
  },
  {
   "cell_type": "code",
   "execution_count": 46,
   "metadata": {},
   "outputs": [
    {
     "data": {
      "text/plain": [
       "'abracadabra'"
      ]
     },
     "execution_count": 46,
     "metadata": {},
     "output_type": "execute_result"
    }
   ],
   "source": [
    "word"
   ]
  },
  {
   "cell_type": "markdown",
   "metadata": {},
   "source": [
    "To remove punctuation, we can use the `string` library, which provides a variable named `punctuation`."
   ]
  },
  {
   "cell_type": "code",
   "execution_count": 47,
   "metadata": {},
   "outputs": [
    {
     "data": {
      "text/plain": [
       "'!\"#$%&\\'()*+,-./:;<=>?@[\\\\]^_`{|}~'"
      ]
     },
     "execution_count": 47,
     "metadata": {},
     "output_type": "execute_result"
    }
   ],
   "source": [
    "import string\n",
    "\n",
    "string.punctuation"
   ]
  },
  {
   "cell_type": "markdown",
   "metadata": {},
   "source": [
    "`string.punctuation` contains the most common punctuation marks, but as we'll see, not all of them.\n",
    "Nevertheless, we can use it to handle most cases.  Here's an example:"
   ]
  },
  {
   "cell_type": "code",
   "execution_count": 48,
   "metadata": {},
   "outputs": [
    {
     "name": "stdout",
     "output_type": "stream",
     "text": [
      "It's\n",
      "not\n",
      "given\n",
      "to\n",
      "people\n",
      "to\n",
      "judge\n",
      "what's\n",
      "right\n",
      "or\n",
      "wrong\n"
     ]
    }
   ],
   "source": [
    "line = \"It's not given to people to judge what's right or wrong.\"\n",
    "\n",
    "for word in line.split():\n",
    "    word = word.strip(string.punctuation)\n",
    "    print(word)"
   ]
  },
  {
   "cell_type": "markdown",
   "metadata": {},
   "source": [
    "`strip` removes the period at the end of `wrong`, but not the apostrophes in `It's`, `don't` and `what's`.\n",
    "That's good, because we want to treat an apostrophe as part of a word.\n",
    "But we have one more problem to solve.\n",
    "Here's another line from the book."
   ]
  },
  {
   "cell_type": "code",
   "execution_count": 49,
   "metadata": {},
   "outputs": [],
   "source": [
    "line = 'anyone, and so you don’t deserve to have them.”'"
   ]
  },
  {
   "cell_type": "markdown",
   "metadata": {},
   "source": [
    "Here's what happens when we try to remove the punctuation."
   ]
  },
  {
   "cell_type": "code",
   "execution_count": 50,
   "metadata": {},
   "outputs": [
    {
     "name": "stdout",
     "output_type": "stream",
     "text": [
      "anyone\n",
      "and\n",
      "so\n",
      "you\n",
      "don’t\n",
      "deserve\n",
      "to\n",
      "have\n",
      "them.”\n"
     ]
    }
   ],
   "source": [
    "for word in line.split():\n",
    "    word = word.strip(string.punctuation)\n",
    "    print(word)"
   ]
  },
  {
   "cell_type": "markdown",
   "metadata": {},
   "source": [
    "The comma after `anyone` is removed, but not the quotation mark at the end of the last word.\n",
    "The problem is that this kind of quotation mark is not in `string.punctuation`, so `strip` doesn't remove it.\n",
    "To fix this problem, we'll use the following loop, which\n",
    "\n",
    "1. Reads the file and builds a dictionary that contains all punctuation marks that appear in the book, then\n",
    "\n",
    "2. It uses the `join` function to concatenate the keys of the dictionary in a single string.\n",
    "\n",
    "You don't have to understand everything about how it works, but I suggest you read it and see how much you can figure out."
   ]
  },
  {
   "cell_type": "code",
   "execution_count": 51,
   "metadata": {},
   "outputs": [
    {
     "name": "stdout",
     "output_type": "stream",
     "text": [
      ",.-:[#]*/“’—‘!?”;()%@\n"
     ]
    }
   ],
   "source": [
    "import unicodedata\n",
    "\n",
    "fp = open('2600-0.txt', encoding='utf-8')\n",
    "punc_marks = {}\n",
    "for line in fp:\n",
    "    for x in line:\n",
    "        category = unicodedata.category(x)\n",
    "        if category[0] == 'P':\n",
    "            punc_marks[x] = 1\n",
    "        \n",
    "all_punctuation = ''.join(punc_marks)\n",
    "print(all_punctuation)"
   ]
  },
  {
   "cell_type": "markdown",
   "metadata": {},
   "source": [
    "The result is a string containing all of the punctuation characters that appear in the document, in the order they first appear."
   ]
  },
  {
   "cell_type": "markdown",
   "metadata": {},
   "source": [
    "**Exercise:** Modify the word-counting loop from the previous section to convert words to lower case *and* strip punctuation before adding them to the dictionary.  Now how many unique words are there?"
   ]
  },
  {
   "cell_type": "markdown",
   "metadata": {
    "tags": []
   },
   "source": [
    "To get you started, here's the code from the previous chapter that skips over the front matter at the beginning and the license at the end, as we did in the previous chapter."
   ]
  },
  {
   "cell_type": "code",
   "execution_count": 52,
   "metadata": {
    "tags": []
   },
   "outputs": [
    {
     "data": {
      "text/plain": [
       "563299"
      ]
     },
     "execution_count": 52,
     "metadata": {},
     "output_type": "execute_result"
    }
   ],
   "source": [
    "fp = open('2600-0.txt', encoding='utf 8')\n",
    "for line in fp:\n",
    "    if line.startswith('***'):\n",
    "        break\n",
    "\n",
    "count = 0\n",
    "for line in fp:\n",
    "    if line.startswith('***'):\n",
    "        break\n",
    "    count += len(line.split())\n",
    "count"
   ]
  },
  {
   "cell_type": "code",
   "execution_count": 53,
   "metadata": {},
   "outputs": [
    {
     "data": {
      "text/plain": [
       "20692"
      ]
     },
     "execution_count": 53,
     "metadata": {},
     "output_type": "execute_result"
    }
   ],
   "source": [
    "# Solution goes here\n",
    "fp = open('2600-0.txt', encoding='utf 8')\n",
    "unique_words = {}\n",
    "for line in fp:\n",
    "    for word in line.split():\n",
    "        unique_words[word.lower().strip(all_punctuation)] = 1\n",
    "len(unique_words)"
   ]
  },
  {
   "cell_type": "markdown",
   "metadata": {},
   "source": [
    "## Counting Word Frequencies\n",
    "\n",
    "In the previous section we counted the number of unique words, but we might also want to know how often each word appears.  Then we can find the most common and least common words in the book.\n",
    "To count the frequency of each word, we'll make a dictionary that maps from each word to the number of times it appears.\n",
    "\n",
    "Here's an example that loops through a string and counts the number of times each letter appears."
   ]
  },
  {
   "cell_type": "code",
   "execution_count": 54,
   "metadata": {},
   "outputs": [
    {
     "data": {
      "text/plain": [
       "{'m': 2, 'i': 4, 's': 4, 'p': 2}"
      ]
     },
     "execution_count": 54,
     "metadata": {},
     "output_type": "execute_result"
    }
   ],
   "source": [
    "word = 'Missimssippi'\n",
    "\n",
    "letter_counts = {}\n",
    "for x in word.lower():\n",
    "    if x in letter_counts:\n",
    "        letter_counts[x] += 1\n",
    "    else:\n",
    "        letter_counts[x] = 1\n",
    "        \n",
    "letter_counts"
   ]
  },
  {
   "cell_type": "markdown",
   "metadata": {},
   "source": [
    "The `if` statement includes a feature we have not seen before, an `else` clause.\n",
    "Here's how it works.\n",
    "\n",
    "1. First, it checks whether the letter, `x`, is already a key in the dictionary, `letter_counts`.\n",
    "\n",
    "2. If so, it runs the first statement, `letter_counts[x] += 1`, which increments the value associated with the letter.\n",
    "\n",
    "3. Otherwise, it runs the second statement, `letter_counts[x] = 1`, which adds `x` as a new key, with the value `1` indicating that we have seen the new letter once.\n",
    "\n",
    "The result is a dictionary that maps from each letter to the number of times it appears.\n",
    "To get the most common letters, we can use a `Counter`, which is similar to a dictionary.  To use it, we have to import a library called `collections`: "
   ]
  },
  {
   "cell_type": "code",
   "execution_count": 55,
   "metadata": {},
   "outputs": [],
   "source": [
    "import collections"
   ]
  },
  {
   "cell_type": "markdown",
   "metadata": {},
   "source": [
    "Then we use `collections.Counter` to convert the dictionary to a `Counter`:"
   ]
  },
  {
   "cell_type": "code",
   "execution_count": 56,
   "metadata": {},
   "outputs": [
    {
     "data": {
      "text/plain": [
       "Counter({'i': 4, 's': 4, 'm': 2, 'p': 2})"
      ]
     },
     "execution_count": 56,
     "metadata": {},
     "output_type": "execute_result"
    }
   ],
   "source": [
    "counter = collections.Counter(letter_counts)\n",
    "type(counter)\n",
    "counter"
   ]
  },
  {
   "cell_type": "markdown",
   "metadata": {},
   "source": [
    "`Counter` provides a function called `most_common` we can use to get the most common characters:"
   ]
  },
  {
   "cell_type": "code",
   "execution_count": 57,
   "metadata": {},
   "outputs": [
    {
     "data": {
      "text/plain": [
       "[('i', 4), ('s', 4), ('m', 2)]"
      ]
     },
     "execution_count": 57,
     "metadata": {},
     "output_type": "execute_result"
    }
   ],
   "source": [
    "counter.most_common(3)"
   ]
  },
  {
   "cell_type": "markdown",
   "metadata": {},
   "source": [
    "The result is a list of tuples, where each tuple contains a character and count, sorted by count."
   ]
  },
  {
   "cell_type": "markdown",
   "metadata": {},
   "source": [
    "**Exercise:** Modify the loop from the previous exercise to count the frequency of the words in *War and Peace*. Then print the 20 most common words and the number of times each one appears."
   ]
  },
  {
   "cell_type": "code",
   "execution_count": 75,
   "metadata": {},
   "outputs": [],
   "source": [
    "# Solution goes here\n",
    "fp = open('2600-0.txt', encoding='utf 8')\n",
    "for line in fp:\n",
    "     if line.startswith('***'):\n",
    "          break\n",
    "     \n",
    "\n",
    "unique_counts = {}\n",
    "for line in fp:\n",
    "    if line.startswith('***'):\n",
    "         break\n",
    "    \n",
    "    for word in line.split():\n",
    "            word = word.lower()\n",
    "            word = word.strip(all_punctuation)\n",
    "            if word in unique_counts:\n",
    "                unique_counts[word] += 1\n",
    "            else:\n",
    "                unique_counts[word] = 1"
   ]
  },
  {
   "cell_type": "code",
   "execution_count": 77,
   "metadata": {},
   "outputs": [
    {
     "data": {
      "text/plain": [
       "[('the', 34389), ('and', 22076), ('to', 16631), ('of', 14874), ('a', 10436)]"
      ]
     },
     "execution_count": 77,
     "metadata": {},
     "output_type": "execute_result"
    }
   ],
   "source": [
    "counter1 = collections.Counter(unique_counts)\n",
    "counter1.most_common(5)"
   ]
  },
  {
   "cell_type": "code",
   "execution_count": 60,
   "metadata": {},
   "outputs": [],
   "source": [
    "#unique_counts"
   ]
  },
  {
   "cell_type": "markdown",
   "metadata": {},
   "source": [
    "**Exercise:** You can run `most_common` with no value in parentheses, like this:\n",
    "\n",
    "```\n",
    "word_freq_pairs = counter.most_common()\n",
    "```\n",
    "\n",
    "The result is a list of tuples, with one tuple for every unique word in the book.\n",
    "Use it to answer the following questions:\n",
    "\n",
    "1. How many times does the #1 ranked word appear (that is, the first element of the list)?\n",
    "\n",
    "2. How many times does the #10 ranked word appear?\n",
    "\n",
    "3. How many times does the #100 ranked word appear?\n",
    "\n",
    "4. How many times does the #1000 ranked word appear?\n",
    "\n",
    "5. How many times does the #10000 ranked word appear?\n",
    "\n",
    "Do you see a pattern in the results?  We will explore this pattern more in the next chapter."
   ]
  },
  {
   "cell_type": "code",
   "execution_count": 78,
   "metadata": {},
   "outputs": [
    {
     "data": {
      "text/plain": [
       "[('the', 34389),\n",
       " ('and', 22076),\n",
       " ('to', 16631),\n",
       " ('of', 14874),\n",
       " ('a', 10436),\n",
       " ('he', 9809),\n",
       " ('in', 8870),\n",
       " ('his', 7965),\n",
       " ('that', 7791),\n",
       " ('was', 7330),\n",
       " ('with', 5647),\n",
       " ('had', 5354),\n",
       " ('it', 5164),\n",
       " ('her', 4697),\n",
       " ('not', 4637),\n",
       " ('him', 4571),\n",
       " ('at', 4520),\n",
       " ('i', 4106),\n",
       " ('but', 4007),\n",
       " ('on', 3985),\n",
       " ('as', 3974),\n",
       " ('you', 3573),\n",
       " ('for', 3495),\n",
       " ('she', 3402),\n",
       " ('is', 3299),\n",
       " ('said', 2834),\n",
       " ('all', 2754),\n",
       " ('from', 2685),\n",
       " ('be', 2431),\n",
       " ('were', 2407),\n",
       " ('by', 2381),\n",
       " ('what', 2314),\n",
       " ('they', 2163),\n",
       " ('who', 2113),\n",
       " ('this', 2056),\n",
       " ('one', 2046),\n",
       " ('which', 2010),\n",
       " ('have', 1972),\n",
       " ('prince', 1886),\n",
       " ('so', 1852),\n",
       " ('pierre', 1784),\n",
       " ('an', 1617),\n",
       " ('up', 1550),\n",
       " ('or', 1512),\n",
       " ('them', 1512),\n",
       " ('when', 1485),\n",
       " ('did', 1478),\n",
       " ('been', 1475),\n",
       " ('there', 1456),\n",
       " ('their', 1437),\n",
       " ('no', 1392),\n",
       " ('would', 1362),\n",
       " ('now', 1303),\n",
       " ('only', 1290),\n",
       " ('if', 1281),\n",
       " ('me', 1263),\n",
       " ('are', 1258),\n",
       " ('out', 1224),\n",
       " ('my', 1220),\n",
       " ('could', 1110),\n",
       " ('natásha', 1091),\n",
       " ('man', 1064),\n",
       " ('will', 1056),\n",
       " ('more', 1053),\n",
       " ('andrew', 1039),\n",
       " ('do', 1031),\n",
       " ('himself', 1011),\n",
       " ('about', 1008),\n",
       " ('into', 1003),\n",
       " ('how', 991),\n",
       " ('we', 947),\n",
       " ('then', 934),\n",
       " ('time', 921),\n",
       " ('princess', 915),\n",
       " ('face', 891),\n",
       " ('french', 872),\n",
       " ('went', 859),\n",
       " ('some', 842),\n",
       " ('know', 840),\n",
       " ('after', 834),\n",
       " ('before', 821),\n",
       " ('eyes', 820),\n",
       " ('your', 807),\n",
       " ('old', 801),\n",
       " ('very', 800),\n",
       " ('room', 766),\n",
       " ('thought', 764),\n",
       " ('men', 760),\n",
       " ('go', 752),\n",
       " ('like', 733),\n",
       " ('chapter', 732),\n",
       " ('see', 727),\n",
       " ('rostóv', 715),\n",
       " ('began', 714),\n",
       " ('moscow', 707),\n",
       " ('again', 703),\n",
       " ('has', 702),\n",
       " ('down', 690),\n",
       " ('well', 681),\n",
       " ('came', 681),\n",
       " ('come', 678),\n",
       " ('asked', 668),\n",
       " ('still', 665),\n",
       " ('without', 662),\n",
       " ('same', 662),\n",
       " ('count', 650),\n",
       " ('those', 650),\n",
       " ('looked', 647),\n",
       " ('army', 641),\n",
       " ('say', 637),\n",
       " ('felt', 628),\n",
       " ('nicholas', 626),\n",
       " ('our', 620),\n",
       " ('first', 618),\n",
       " ('mary', 612),\n",
       " ('where', 611),\n",
       " ('away', 611),\n",
       " ('left', 605),\n",
       " ('another', 601),\n",
       " ('over', 599),\n",
       " ('something', 597),\n",
       " ('life', 588),\n",
       " ('these', 587),\n",
       " ('two', 586),\n",
       " ('such', 584),\n",
       " ('seemed', 579),\n",
       " ('its', 567),\n",
       " ('other', 567),\n",
       " ('head', 565),\n",
       " ('just', 563),\n",
       " ('little', 554),\n",
       " ('yes', 550),\n",
       " ('am', 545),\n",
       " ('day', 543),\n",
       " ('hand', 536),\n",
       " ('why', 536),\n",
       " ('than', 532),\n",
       " ('whole', 531),\n",
       " ('don’t', 526),\n",
       " ('emperor', 522),\n",
       " ('people', 521),\n",
       " ('should', 518),\n",
       " ('back', 515),\n",
       " ('long', 511),\n",
       " ('even', 501),\n",
       " ('own', 498),\n",
       " ('heard', 497),\n",
       " ('way', 491),\n",
       " ('having', 487),\n",
       " ('because', 486),\n",
       " ('countess', 484),\n",
       " ('general', 481),\n",
       " ('here', 475),\n",
       " ('look', 475),\n",
       " ('must', 472),\n",
       " ('napoleon', 470),\n",
       " ('any', 465),\n",
       " ('always', 464),\n",
       " ('can', 463),\n",
       " ('saw', 462),\n",
       " ('nothing', 461),\n",
       " ('being', 460),\n",
       " ('made', 458),\n",
       " ('russian', 452),\n",
       " ('right', 445),\n",
       " ('kutúzov', 445),\n",
       " ('though', 443),\n",
       " ('young', 442),\n",
       " ('love', 441),\n",
       " ('suddenly', 428),\n",
       " ('off', 426),\n",
       " ('voice', 423),\n",
       " ('round', 421),\n",
       " ('us', 416),\n",
       " ('smile', 414),\n",
       " ('moment', 413),\n",
       " ('sónya', 411),\n",
       " ('officer', 410),\n",
       " ('knew', 409),\n",
       " ('told', 409),\n",
       " ('never', 407),\n",
       " ('everything', 406),\n",
       " ('whom', 399),\n",
       " ('while', 396),\n",
       " ('took', 396),\n",
       " ('much', 393),\n",
       " ('words', 391),\n",
       " ('looking', 390),\n",
       " ('too', 389),\n",
       " ('house', 389),\n",
       " ('turned', 384),\n",
       " ('dear', 383),\n",
       " ('good', 380),\n",
       " ('through', 376),\n",
       " ('let', 376),\n",
       " ('tell', 375),\n",
       " ('it’s', 375),\n",
       " ('quite', 374),\n",
       " ('under', 365),\n",
       " ('denísov', 363),\n",
       " ('get', 356),\n",
       " ('once', 356),\n",
       " ('think', 355),\n",
       " ('battle', 350),\n",
       " ('take', 349),\n",
       " ('soldiers', 349),\n",
       " ('evidently', 347),\n",
       " ('understand', 346),\n",
       " ('last', 345),\n",
       " ('sat', 344),\n",
       " ('yet', 339),\n",
       " ('every', 334),\n",
       " ('door', 330),\n",
       " ('father', 329),\n",
       " ('herself', 328),\n",
       " ('already', 325),\n",
       " ('most', 322),\n",
       " ('feeling', 319),\n",
       " ('going', 318),\n",
       " ('might', 314),\n",
       " ('oh', 313),\n",
       " ('behind', 311),\n",
       " ('place', 309),\n",
       " ('stood', 307),\n",
       " ('gave', 303),\n",
       " ('replied', 300),\n",
       " ('done', 300),\n",
       " ('expression', 299),\n",
       " ('side', 297),\n",
       " ('order', 295),\n",
       " ('others', 295),\n",
       " ('war', 294),\n",
       " ('anna', 293),\n",
       " ('toward', 292),\n",
       " ('position', 292),\n",
       " ('anything', 291),\n",
       " ('borís', 290),\n",
       " ('seen', 288),\n",
       " ('commander', 287),\n",
       " ('horse', 286),\n",
       " ('dólokhov', 284),\n",
       " ('', 283),\n",
       " ('new', 282),\n",
       " ('give', 276),\n",
       " ('may', 274),\n",
       " ('make', 273),\n",
       " ('put', 270),\n",
       " ('that’s', 268),\n",
       " ('also', 266),\n",
       " ('front', 265),\n",
       " ('god', 262),\n",
       " ('great', 262),\n",
       " ('ran', 260),\n",
       " ('troops', 260),\n",
       " ('hands', 258),\n",
       " ('both', 256),\n",
       " ('three', 255),\n",
       " ('soon', 252),\n",
       " ('talk', 251),\n",
       " ('want', 249),\n",
       " ('shall', 246),\n",
       " ('horses', 246),\n",
       " ('pétya', 245),\n",
       " ('shouted', 244),\n",
       " ('wife', 243),\n",
       " ('taken', 242),\n",
       " ('petersburg', 241),\n",
       " ('between', 240),\n",
       " ('alone', 236),\n",
       " ('chief', 236),\n",
       " ('saying', 233),\n",
       " ('word', 232),\n",
       " ('part', 232),\n",
       " ('many', 231),\n",
       " ('things', 230),\n",
       " ('whether', 230),\n",
       " ('son', 229),\n",
       " ('letter', 229),\n",
       " ('officers', 229),\n",
       " ('called', 227),\n",
       " ('mind', 225),\n",
       " ('along', 225),\n",
       " ('thing', 224),\n",
       " ('during', 224),\n",
       " ('sent', 223),\n",
       " ('table', 222),\n",
       " ('against', 222),\n",
       " ('regiment', 221),\n",
       " ('rode', 221),\n",
       " ('found', 220),\n",
       " ('sitting', 220),\n",
       " ('everyone', 218),\n",
       " ('night', 218),\n",
       " ('question', 216),\n",
       " ('among', 216),\n",
       " ('vasíli', 214),\n",
       " ('continued', 214),\n",
       " ('evening', 213),\n",
       " ('speak', 213),\n",
       " ('drawing', 213),\n",
       " ('entered', 212),\n",
       " ('moved', 212),\n",
       " ('brought', 210),\n",
       " ('cried', 210),\n",
       " ('crowd', 210),\n",
       " ('leave', 209),\n",
       " ('added', 208),\n",
       " ('anatole', 208),\n",
       " ('morning', 207),\n",
       " ('does', 206),\n",
       " ('near', 205),\n",
       " ('enemy', 205),\n",
       " ('wounded', 205),\n",
       " ('really', 203),\n",
       " ('power', 203),\n",
       " ('got', 202),\n",
       " ('taking', 201),\n",
       " ('road', 201),\n",
       " ('orders', 200),\n",
       " ('ask', 199),\n",
       " ('received', 199),\n",
       " ('mother', 199),\n",
       " ('themselves', 199),\n",
       " ('understood', 198),\n",
       " ('fire', 196),\n",
       " ('can’t', 195),\n",
       " ('lay', 195),\n",
       " ('days', 194),\n",
       " ('happy', 194),\n",
       " ('stopped', 193),\n",
       " ('white', 192),\n",
       " ('next', 192),\n",
       " ('action', 192),\n",
       " ('passed', 191),\n",
       " ('wished', 189),\n",
       " ('talking', 189),\n",
       " ('since', 188),\n",
       " ('rose', 188),\n",
       " ('fellow', 188),\n",
       " ('tried', 188),\n",
       " ('movement', 187),\n",
       " ('i’ll', 187),\n",
       " ('several', 187),\n",
       " ('soldier', 187),\n",
       " ('wish', 184),\n",
       " ('beside', 184),\n",
       " ('end', 184),\n",
       " ('each', 182),\n",
       " ('turning', 181),\n",
       " ('wanted', 180),\n",
       " ('ah', 180),\n",
       " ('small', 179),\n",
       " ('noticed', 179),\n",
       " ('given', 178),\n",
       " ('death', 178),\n",
       " ('remained', 178),\n",
       " ('anyone', 177),\n",
       " ('longer', 176),\n",
       " ('impossible', 176),\n",
       " ('nor', 175),\n",
       " ('arm', 175),\n",
       " ('arms', 175),\n",
       " ('heart', 175),\n",
       " ('till', 173),\n",
       " ('around', 172),\n",
       " ('past', 172),\n",
       " ('home', 172),\n",
       " ('forward', 172),\n",
       " ('woman', 171),\n",
       " ('became', 170),\n",
       " ('possible', 170),\n",
       " ('few', 170),\n",
       " ('large', 169),\n",
       " ('far', 169),\n",
       " ('thousand', 168),\n",
       " ('seeing', 168),\n",
       " ('news', 167),\n",
       " ('spoke', 167),\n",
       " ('happened', 167),\n",
       " ('pierre’s', 167),\n",
       " ('matter', 167),\n",
       " ('tears', 166),\n",
       " ('dinner', 166),\n",
       " ('ready', 164),\n",
       " ('trying', 164),\n",
       " ('silent', 164),\n",
       " ('friend', 163),\n",
       " ('conversation', 163),\n",
       " ('cannot', 163),\n",
       " ('better', 162),\n",
       " ('russia', 162),\n",
       " ('find', 161),\n",
       " ('gone', 161),\n",
       " ('coming', 160),\n",
       " ('sound', 160),\n",
       " ('rostóvs', 159),\n",
       " ('strange', 159),\n",
       " ('bolkónski', 158),\n",
       " ('adjutant', 157),\n",
       " ('itself', 157),\n",
       " ('standing', 157),\n",
       " ('world', 156),\n",
       " ('faces', 156),\n",
       " ('honor', 155),\n",
       " ('terrible', 155),\n",
       " ('speaking', 155),\n",
       " ('history', 155),\n",
       " ('met', 154),\n",
       " ('answered', 153),\n",
       " ('hair', 153),\n",
       " ('fact', 153),\n",
       " ('set', 152),\n",
       " ('almost', 152),\n",
       " ('else', 152),\n",
       " ('glanced', 152),\n",
       " ('times', 151),\n",
       " ('smiled', 150),\n",
       " ('soul', 149),\n",
       " ('kept', 149),\n",
       " ('free', 149),\n",
       " ('tone', 147),\n",
       " ('full', 147),\n",
       " ('reply', 146),\n",
       " ('myself', 146),\n",
       " ('above', 146),\n",
       " ('smiling', 145),\n",
       " ('village', 145),\n",
       " ('returned', 145),\n",
       " ('afraid', 145),\n",
       " ('reached', 145),\n",
       " ('cause', 144),\n",
       " ('repeated', 144),\n",
       " ('different', 143),\n",
       " ('russians', 143),\n",
       " ('field', 143),\n",
       " ('answer', 142),\n",
       " ('less', 142),\n",
       " ('voices', 142),\n",
       " ('held', 142),\n",
       " ('de', 141),\n",
       " ('help', 141),\n",
       " ('mademoiselle', 141),\n",
       " ('won’t', 141),\n",
       " ('light', 141),\n",
       " ('doing', 140),\n",
       " ('hear', 140),\n",
       " ('kind', 140),\n",
       " ('often', 139),\n",
       " ('women', 139),\n",
       " ('lost', 139),\n",
       " ('state', 139),\n",
       " ('together', 139),\n",
       " ('quickly', 138),\n",
       " ('cold', 137),\n",
       " ('necessary', 137),\n",
       " ('hélène', 137),\n",
       " ('steps', 137),\n",
       " ('listened', 136),\n",
       " ('half', 136),\n",
       " ('certain', 136),\n",
       " ('family', 135),\n",
       " ('husband', 135),\n",
       " ('sides', 135),\n",
       " ('followed', 135),\n",
       " ('air', 134),\n",
       " ('staff', 134),\n",
       " ('bagratión', 134),\n",
       " ('alpátych', 134),\n",
       " ('force', 133),\n",
       " ('feel', 133),\n",
       " ('bridge', 133),\n",
       " ('used', 132),\n",
       " ('later', 132),\n",
       " ('sometimes', 131),\n",
       " ('merely', 131),\n",
       " ('please', 131),\n",
       " ('society', 130),\n",
       " ('immediately', 130),\n",
       " ('command', 130),\n",
       " ('girl', 129),\n",
       " ('brother', 129),\n",
       " ('third', 129),\n",
       " ('glad', 129),\n",
       " ('read', 129),\n",
       " ('ever', 128),\n",
       " ('boy', 128),\n",
       " ('important', 128),\n",
       " ('known', 127),\n",
       " ('especially', 127),\n",
       " ('killed', 127),\n",
       " ('either', 126),\n",
       " ('reason', 126),\n",
       " ('service', 126),\n",
       " ('happiness', 126),\n",
       " ('contrary', 125),\n",
       " ('fell', 125),\n",
       " ('believe', 124),\n",
       " ('best', 124),\n",
       " ('present', 124),\n",
       " ('money', 124),\n",
       " ('remember', 124),\n",
       " ('grew', 124),\n",
       " ('smoke', 124),\n",
       " ('someone', 123),\n",
       " ('doctor', 123),\n",
       " ('excellency', 123),\n",
       " ('become', 122),\n",
       " ('pleasure', 122),\n",
       " ('appeared', 122),\n",
       " ('course', 122),\n",
       " ('hundred', 122),\n",
       " ('bad', 122),\n",
       " ('work', 121),\n",
       " ('presence', 121),\n",
       " ('true', 120),\n",
       " ('says', 120),\n",
       " ('usual', 120),\n",
       " ('holding', 120),\n",
       " ('former', 120),\n",
       " ('fine', 120),\n",
       " ('loved', 120),\n",
       " ('kissed', 119),\n",
       " ('daughter', 119),\n",
       " ('moving', 119),\n",
       " ('mikháylovna', 119),\n",
       " ('clear', 119),\n",
       " ('black', 119),\n",
       " ('coat', 118),\n",
       " ('thinking', 118),\n",
       " ('bed', 118),\n",
       " ('strength', 118),\n",
       " ('town', 118),\n",
       " ('historians', 118),\n",
       " ('yourself', 117),\n",
       " ('frightened', 117),\n",
       " ('years', 117),\n",
       " ('attention', 117),\n",
       " ('carriage', 117),\n",
       " ('affairs', 117),\n",
       " ('second', 116),\n",
       " ('high', 116),\n",
       " ('expressed', 116),\n",
       " ('name', 116),\n",
       " ('waiting', 116),\n",
       " ('opened', 116),\n",
       " ('line', 116),\n",
       " ('across', 116),\n",
       " ('events', 116),\n",
       " ('peasants', 116),\n",
       " ('perhaps', 115),\n",
       " ('thoughts', 115),\n",
       " ('military', 115),\n",
       " ('alexander', 115),\n",
       " ('prisoners', 115),\n",
       " ('natásha’s', 115),\n",
       " ('márya', 114),\n",
       " ('short', 114),\n",
       " ('lips', 113),\n",
       " ('ball', 113),\n",
       " ('pávlovna', 112),\n",
       " ('drew', 112),\n",
       " ('feet', 112),\n",
       " ('everybody', 112),\n",
       " ('study', 112),\n",
       " ('window', 112),\n",
       " ('bourienne', 112),\n",
       " ('whose', 111),\n",
       " ('freedom', 111),\n",
       " ('besides', 111),\n",
       " ('pale', 111),\n",
       " ('led', 111),\n",
       " ('peace', 110),\n",
       " ('show', 110),\n",
       " ('fear', 110),\n",
       " ('showed', 110),\n",
       " ('ordered', 110),\n",
       " ('handsome', 108),\n",
       " ('red', 108),\n",
       " ('human', 108),\n",
       " ('rest', 107),\n",
       " ('company', 107),\n",
       " ('shoulders', 107),\n",
       " ('need', 107),\n",
       " ('angry', 107),\n",
       " ('able', 107),\n",
       " ('he’s', 107),\n",
       " ('making', 107),\n",
       " ('giving', 107),\n",
       " ('meet', 106),\n",
       " ('asking', 106),\n",
       " ('beyond', 106),\n",
       " ('activity', 106),\n",
       " ('late', 105),\n",
       " ('raised', 105),\n",
       " ('close', 105),\n",
       " ('man’s', 105),\n",
       " ('silence', 105),\n",
       " ('i’m', 105),\n",
       " ('ground', 105),\n",
       " ('hussars', 105),\n",
       " ('borodinó', 105),\n",
       " ('running', 104),\n",
       " ('colonel', 104),\n",
       " ('four', 103),\n",
       " ('attack', 103),\n",
       " ('considered', 103),\n",
       " ('children', 103),\n",
       " ('straight', 103),\n",
       " ('shouting', 103),\n",
       " ('turn', 103),\n",
       " ('emperor’s', 103),\n",
       " ('rostopchín', 103),\n",
       " ('dress', 102),\n",
       " ('remembered', 102),\n",
       " ('mamma', 102),\n",
       " ('campaign', 102),\n",
       " ('legs', 101),\n",
       " ('generals', 101),\n",
       " ('smolénsk', 101),\n",
       " ('decided', 100),\n",
       " ('child', 100),\n",
       " ('run', 100),\n",
       " ('aim', 100),\n",
       " ('ought', 100),\n",
       " ('captain', 100),\n",
       " ('guns', 100),\n",
       " ('thin', 99),\n",
       " ('wait', 99),\n",
       " ('body', 99),\n",
       " ('however', 99),\n",
       " ('galloped', 99),\n",
       " ('ten', 98),\n",
       " ('country', 98),\n",
       " ('napoleon’s', 98),\n",
       " ('business', 98),\n",
       " ('questions', 98),\n",
       " ('unable', 97),\n",
       " ('tomorrow', 97),\n",
       " ('open', 97),\n",
       " ('neither', 96),\n",
       " ('changed', 96),\n",
       " ('andrew’s', 96),\n",
       " ('carried', 96),\n",
       " ('return', 95),\n",
       " ('case', 95),\n",
       " ('talked', 95),\n",
       " ('upon', 95),\n",
       " ('meaning', 95),\n",
       " ('frenchman', 95),\n",
       " ('laughing', 95),\n",
       " ('cry', 95),\n",
       " ('rapidly', 95),\n",
       " ('flank', 95),\n",
       " ('balashëv', 95),\n",
       " ('uniform', 94),\n",
       " ('wrote', 94),\n",
       " ('father’s', 94),\n",
       " ('interrupted', 94),\n",
       " ('fresh', 94),\n",
       " ('struck', 94),\n",
       " ('opinion', 93),\n",
       " ('meeting', 93),\n",
       " ('arrived', 93),\n",
       " ('remarked', 92),\n",
       " ('call', 91),\n",
       " ('closed', 91),\n",
       " ('dark', 91),\n",
       " ('guards', 91),\n",
       " ('live', 91),\n",
       " ('corner', 91),\n",
       " ('berg', 91),\n",
       " ('german', 91),\n",
       " ('clearly', 90),\n",
       " ('duty', 90),\n",
       " ('plan', 90),\n",
       " ('occupied', 90),\n",
       " ('dmítrievna', 90),\n",
       " ('hope', 89),\n",
       " ('listen', 89),\n",
       " ('master', 89),\n",
       " ('sight', 88),\n",
       " ('rather', 88),\n",
       " ('hardly', 88),\n",
       " ('ladies', 88),\n",
       " ('beginning', 88),\n",
       " ('living', 88),\n",
       " ('spent', 88),\n",
       " ('pleased', 87),\n",
       " ('gazed', 87),\n",
       " ('expected', 87),\n",
       " ('porch', 87),\n",
       " ('uncle', 87),\n",
       " ('farther', 87),\n",
       " ('laws', 87),\n",
       " ('book', 86),\n",
       " ('calm', 86),\n",
       " ('pleasant', 86),\n",
       " ('forces', 86),\n",
       " ('particularly', 86),\n",
       " ('experienced', 86),\n",
       " ('sounds', 86),\n",
       " ('eh', 86),\n",
       " ('foot', 86),\n",
       " ('event', 86),\n",
       " ('five', 85),\n",
       " ('listening', 85),\n",
       " ('seems', 85),\n",
       " ('knowing', 85),\n",
       " ('knows', 85),\n",
       " ('surprise', 85),\n",
       " ('water', 85),\n",
       " ('cannon', 85),\n",
       " ('firing', 85),\n",
       " ('retreat', 85),\n",
       " ('least', 84),\n",
       " ('today', 84),\n",
       " ('year', 84),\n",
       " ('passing', 84),\n",
       " ('sake', 84),\n",
       " ('exclaimed', 84),\n",
       " ('move', 84),\n",
       " ('bring', 83),\n",
       " ('subject', 83),\n",
       " ('pass', 83),\n",
       " ('difficult', 83),\n",
       " ('truth', 83),\n",
       " ('victory', 83),\n",
       " ('lady', 82),\n",
       " ('cap', 82),\n",
       " ('point', 82),\n",
       " ('change', 82),\n",
       " ('seem', 82),\n",
       " ('reading', 82),\n",
       " ('marry', 82),\n",
       " ('within', 82),\n",
       " ('meant', 82),\n",
       " ('fixed', 82),\n",
       " ('hard', 82),\n",
       " ('view', 82),\n",
       " ('hill', 82),\n",
       " ('various', 82),\n",
       " ('cossacks', 82),\n",
       " ('instead', 81),\n",
       " ('beautiful', 81),\n",
       " ('finished', 81),\n",
       " ('happen', 81),\n",
       " ('keep', 81),\n",
       " ('seized', 81),\n",
       " ('leaving', 81),\n",
       " ('infantry', 81),\n",
       " ('hills', 81),\n",
       " ('begun', 81),\n",
       " ('despite', 80),\n",
       " ('quiet', 80),\n",
       " ('sad', 80),\n",
       " ('kutúzov’s', 80),\n",
       " ('whispered', 80),\n",
       " ('step', 80),\n",
       " ('nonsense', 80),\n",
       " ('lying', 80),\n",
       " ('hussar', 80),\n",
       " ('march', 80),\n",
       " ('joy', 80),\n",
       " ('pressed', 80),\n",
       " ('carts', 80),\n",
       " ('bald', 79),\n",
       " ('bonaparte', 79),\n",
       " ('prepared', 79),\n",
       " ('continually', 79),\n",
       " ('cossack', 79),\n",
       " ('tíkhon', 79),\n",
       " ('probably', 78),\n",
       " ('middle', 78),\n",
       " ('sleep', 78),\n",
       " ('street', 78),\n",
       " ('rushed', 78),\n",
       " ('angrily', 78),\n",
       " ('single', 78),\n",
       " ('drove', 78),\n",
       " ('asleep', 78),\n",
       " ('laughed', 77),\n",
       " ('distance', 77),\n",
       " ('ranks', 77),\n",
       " ('deep', 77),\n",
       " ('pointing', 77),\n",
       " ('simply', 77),\n",
       " ('getting', 77),\n",
       " ('fight', 77),\n",
       " ('mouth', 76),\n",
       " ('remain', 76),\n",
       " ('effort', 76),\n",
       " ('covered', 76),\n",
       " ('cavalry', 76),\n",
       " ('condition', 76),\n",
       " ('involuntarily', 76),\n",
       " ('conception', 76),\n",
       " ('poor', 75),\n",
       " ('tea', 75),\n",
       " ('thank', 75),\n",
       " ('evident', 75),\n",
       " ('there’s', 75),\n",
       " ('gentlemen', 75),\n",
       " ('hearing', 75),\n",
       " ('number', 75),\n",
       " ('affair', 74),\n",
       " ('story', 74),\n",
       " ('fall', 74),\n",
       " ('ago', 74),\n",
       " ('lived', 74),\n",
       " ('desire', 74),\n",
       " ('battery', 74),\n",
       " ('sofa', 73),\n",
       " ('matters', 73),\n",
       " ('paused', 73),\n",
       " ('nearer', 73),\n",
       " ('married', 73),\n",
       " ('direction', 73),\n",
       " ('glancing', 73),\n",
       " ('looks', 73),\n",
       " ('future', 73),\n",
       " ('suite', 73),\n",
       " ('result', 73),\n",
       " ('suffering', 72),\n",
       " ('sister', 72),\n",
       " ('cross', 72),\n",
       " ('special', 72),\n",
       " ('dressed', 72),\n",
       " ('path', 72),\n",
       " ('liked', 72),\n",
       " ('presented', 72),\n",
       " ('law', 72),\n",
       " ('person', 71),\n",
       " ('sense', 71),\n",
       " ('gray', 71),\n",
       " ('spite', 71),\n",
       " ('placed', 71),\n",
       " ('low', 71),\n",
       " ('glass', 71),\n",
       " ('real', 71),\n",
       " ('stop', 71),\n",
       " ('use', 71),\n",
       " ('idea', 71),\n",
       " ('you’re', 71),\n",
       " ('blue', 71),\n",
       " ('serfs', 71),\n",
       " ('therefore', 71),\n",
       " ('forget', 71),\n",
       " ('danger', 71),\n",
       " ('means', 70),\n",
       " ('try', 70),\n",
       " ('actions', 70),\n",
       " ('occurred', 70),\n",
       " ('bright', 70),\n",
       " ('addressing', 70),\n",
       " ('approached', 70),\n",
       " ('brilliant', 70),\n",
       " ('begin', 70),\n",
       " ('following', 70),\n",
       " ('peasant', 70),\n",
       " ('according', 70),\n",
       " ('splendid', 69),\n",
       " ('rubles', 69),\n",
       " ('pretty', 69),\n",
       " ('glance', 69),\n",
       " ('figure', 69),\n",
       " ('latter', 69),\n",
       " ('party', 69),\n",
       " ('muttered', 69),\n",
       " ('laughter', 69),\n",
       " ('sir', 69),\n",
       " ('walked', 69),\n",
       " ('account', 69),\n",
       " ('count’s', 69),\n",
       " ('austrian', 69),\n",
       " ('report', 69),\n",
       " ('wearing', 68),\n",
       " ('serious', 68),\n",
       " ('guests', 68),\n",
       " ('enter', 68),\n",
       " ('group', 68),\n",
       " ('formed', 68),\n",
       " ('sure', 68),\n",
       " ('hurriedly', 68),\n",
       " ('send', 68),\n",
       " ('sit', 68),\n",
       " ('feelings', 68),\n",
       " ('dressing', 68),\n",
       " ('bennigsen', 68),\n",
       " ('consciousness', 67),\n",
       " ('hour', 67),\n",
       " ('consider', 67),\n",
       " ('understanding', 67),\n",
       " ('except', 67),\n",
       " ('what’s', 67),\n",
       " ('relations', 67),\n",
       " ('dead', 67),\n",
       " ('die', 67),\n",
       " ('flushed', 67),\n",
       " ('neck', 67),\n",
       " ('leg', 67),\n",
       " ('majesty', 66),\n",
       " ('interest', 66),\n",
       " ('settled', 66),\n",
       " ('telling', 66),\n",
       " ('simple', 66),\n",
       " ('notice', 66),\n",
       " ('you’ll', 66),\n",
       " ('strong', 66),\n",
       " ('silently', 66),\n",
       " ('whatever', 66),\n",
       " ('nesvítski', 66),\n",
       " ('city', 66),\n",
       " ('grown', 65),\n",
       " ('effect', 65),\n",
       " ('chair', 65),\n",
       " ('sorry', 65),\n",
       " ('drawn', 65),\n",
       " ('plain', 65),\n",
       " ('o’clock', 65),\n",
       " ('cut', 65),\n",
       " ('wrong', 65),\n",
       " ('minutes', 65),\n",
       " ('crossed', 65),\n",
       " ('surrounded', 65),\n",
       " ('riding', 65),\n",
       " ('unknown', 65),\n",
       " ('court', 64),\n",
       " ('fate', 64),\n",
       " ('friends', 64),\n",
       " ('growing', 64),\n",
       " ('greater', 64),\n",
       " ('advance', 64),\n",
       " ('forest', 64),\n",
       " ('wood', 64),\n",
       " ('blood', 63),\n",
       " ('expecting', 63),\n",
       " ('mean', 63),\n",
       " ('animated', 63),\n",
       " ('lifted', 63),\n",
       " ('bare', 63),\n",
       " ('wishing', 63),\n",
       " ('pity', 63),\n",
       " ('visitors', 63),\n",
       " ('onto', 63),\n",
       " ('hold', 63),\n",
       " ('imagine', 63),\n",
       " ('instant', 63),\n",
       " ('véra', 63),\n",
       " ('filled', 63),\n",
       " ('learned', 63),\n",
       " ('excited', 63),\n",
       " ('written', 62),\n",
       " ('post', 62),\n",
       " ('explain', 62),\n",
       " ('one’s', 62),\n",
       " ('act', 62),\n",
       " ('bent', 62),\n",
       " ('regard', 62),\n",
       " ('needed', 62),\n",
       " ('squadron', 62),\n",
       " ('blame', 62),\n",
       " ('express', 61),\n",
       " ('recognized', 61),\n",
       " ('manner', 61),\n",
       " ('government', 61),\n",
       " ('write', 61),\n",
       " ('addressed', 61),\n",
       " ('threw', 61),\n",
       " ('sky', 61),\n",
       " ('boots', 61),\n",
       " ('letters', 61),\n",
       " ('houses', 61),\n",
       " ('seven', 60),\n",
       " ('health', 60),\n",
       " ('dying', 60),\n",
       " ('doubt', 60),\n",
       " ('enough', 60),\n",
       " ('gazing', 60),\n",
       " ('aside', 60),\n",
       " ('pointed', 60),\n",
       " ('devil', 60),\n",
       " ('julie', 60),\n",
       " ('slightly', 60),\n",
       " ('conditions', 60),\n",
       " ('genius', 60),\n",
       " ('snow', 60),\n",
       " ('yard', 60),\n",
       " ('visit', 59),\n",
       " ('beauty', 59),\n",
       " ('spread', 59),\n",
       " ('certainly', 59),\n",
       " ('approaching', 59),\n",
       " ('kindly', 59),\n",
       " ('laugh', 59),\n",
       " ('fingers', 59),\n",
       " ('surprised', 59),\n",
       " ('familiar', 59),\n",
       " ('tall', 59),\n",
       " ('significance', 59),\n",
       " ('sun', 59)]"
      ]
     },
     "execution_count": 78,
     "metadata": {},
     "output_type": "execute_result"
    }
   ],
   "source": [
    "# Solution goes here\n",
    "counter1.most_common(1000)"
   ]
  },
  {
   "cell_type": "code",
   "execution_count": 62,
   "metadata": {},
   "outputs": [
    {
     "data": {
      "text/plain": [
       "('the', 34404)"
      ]
     },
     "execution_count": 62,
     "metadata": {},
     "output_type": "execute_result"
    }
   ],
   "source": [
    "counter1.most_common(1)[-1]"
   ]
  },
  {
   "cell_type": "code",
   "execution_count": 79,
   "metadata": {},
   "outputs": [
    {
     "data": {
      "text/plain": [
       "('the', 34389)"
      ]
     },
     "execution_count": 79,
     "metadata": {},
     "output_type": "execute_result"
    }
   ],
   "source": [
    "# Solution goes \n",
    "def get_nth_most_common(counter1, n):\n",
    "    return counter1.most_common(n)[-1]\n",
    "\n",
    "get_nth_most_common(counter1, 1)"
   ]
  },
  {
   "cell_type": "code",
   "execution_count": 80,
   "metadata": {},
   "outputs": [
    {
     "data": {
      "text/plain": [
       "('was', 7330)"
      ]
     },
     "execution_count": 80,
     "metadata": {},
     "output_type": "execute_result"
    }
   ],
   "source": [
    "# Solution goes here\n",
    "get_nth_most_common(counter1, 10)"
   ]
  },
  {
   "cell_type": "code",
   "execution_count": 81,
   "metadata": {},
   "outputs": [
    {
     "data": {
      "text/plain": [
       "('came', 681)"
      ]
     },
     "execution_count": 81,
     "metadata": {},
     "output_type": "execute_result"
    }
   ],
   "source": [
    "# Solution goes here\n",
    "get_nth_most_common(counter1, 100)"
   ]
  },
  {
   "cell_type": "code",
   "execution_count": 82,
   "metadata": {},
   "outputs": [
    {
     "data": {
      "text/plain": [
       "('sun', 59)"
      ]
     },
     "execution_count": 82,
     "metadata": {},
     "output_type": "execute_result"
    }
   ],
   "source": [
    "# Solution goes here\n",
    "get_nth_most_common(counter1, 1000)"
   ]
  },
  {
   "cell_type": "code",
   "execution_count": 83,
   "metadata": {},
   "outputs": [
    {
     "data": {
      "text/plain": [
       "('silenced', 2)"
      ]
     },
     "execution_count": 83,
     "metadata": {},
     "output_type": "execute_result"
    }
   ],
   "source": [
    "# Solution goes here\n",
    "get_nth_most_common(counter1, 10000)"
   ]
  },
  {
   "cell_type": "markdown",
   "metadata": {},
   "source": [
    "**Exercise:** Write a loop that counts how many words appear 200 times.  What are they?  How many words appear 100 times, 50 times, and 20 times?\n",
    "\n",
    "**Optional:** If you know how to define a function, write a function that takes a `Counter` and a frequency as arguments, prints all words with that frequency, and returns the number of words with that frequency."
   ]
  },
  {
   "cell_type": "code",
   "execution_count": 84,
   "metadata": {},
   "outputs": [
    {
     "name": "stdout",
     "output_type": "stream",
     "text": [
      "1\n"
     ]
    }
   ],
   "source": [
    "# Solution goes here\n",
    "counts = 0\n",
    "for i, j in counter1.items():\n",
    "    if j == 200:\n",
    "        counts += 1\n",
    "print(counts)"
   ]
  },
  {
   "cell_type": "code",
   "execution_count": 69,
   "metadata": {},
   "outputs": [
    {
     "name": "stdout",
     "output_type": "stream",
     "text": [
      "4\n"
     ]
    }
   ],
   "source": [
    "# Solution goes here\n",
    "counts = 0\n",
    "for i, j in counter1.items():\n",
    "    if j == 100:\n",
    "        counts += 1\n",
    "print(counts)\n"
   ]
  },
  {
   "cell_type": "code",
   "execution_count": 70,
   "metadata": {},
   "outputs": [
    {
     "name": "stdout",
     "output_type": "stream",
     "text": [
      "22\n"
     ]
    }
   ],
   "source": [
    "counts = 0\n",
    "for i, j in counter1.items():\n",
    "    if j ==50:\n",
    "           counts += 1\n",
    "print(counts)"
   ]
  },
  {
   "cell_type": "code",
   "execution_count": 71,
   "metadata": {},
   "outputs": [
    {
     "name": "stdout",
     "output_type": "stream",
     "text": [
      "112\n"
     ]
    }
   ],
   "source": [
    "# Solution goes here\n",
    "counts = 0\n",
    "for i, j in counter1.items():\n",
    "    if j == 20:\n",
    "        counts += 1\n",
    "print(counts)"
   ]
  },
  {
   "cell_type": "code",
   "execution_count": 72,
   "metadata": {},
   "outputs": [
    {
     "data": {
      "text/plain": [
       "3"
      ]
     },
     "execution_count": 72,
     "metadata": {},
     "output_type": "execute_result"
    }
   ],
   "source": [
    "# Solution goes here\n",
    "def counter_funct(num): #function version\n",
    "    counts = 0\n",
    "    for i, j in counter1.items():\n",
    "        if j == num:\n",
    "            counts += 1\n",
    "    return counts\n",
    "counter_funct(200)"
   ]
  },
  {
   "cell_type": "code",
   "execution_count": 73,
   "metadata": {},
   "outputs": [
    {
     "data": {
      "text/plain": [
       "4"
      ]
     },
     "execution_count": 73,
     "metadata": {},
     "output_type": "execute_result"
    }
   ],
   "source": [
    "# Solution goes here\n",
    "counter_funct(100)"
   ]
  },
  {
   "cell_type": "code",
   "execution_count": 74,
   "metadata": {},
   "outputs": [
    {
     "data": {
      "text/plain": [
       "22"
      ]
     },
     "execution_count": 74,
     "metadata": {},
     "output_type": "execute_result"
    }
   ],
   "source": [
    "# Solution goes here\n",
    "counter_funct(50)"
   ]
  },
  {
   "cell_type": "markdown",
   "metadata": {},
   "source": [
    "## Summary\n",
    "\n",
    "This chapter introduces dictionaries, which are collections of keys and corresponding values.\n",
    "We used a dictionary to count the number of unique words in a file and the number of times each one appears.\n",
    "\n",
    "It also introduces the bracket operator, which selects an element from a list or tuple, or looks up a key in a dictionary and finds the corresponding value.\n",
    "\n",
    "We saw some new methods for working with strings, including `lower` and `strip`.\n",
    "Also, we used the `unicodedata` library to identify characters that are considered punctuation."
   ]
  },
  {
   "cell_type": "markdown",
   "metadata": {
    "tags": []
   },
   "source": [
    "*Elements of Data Science*\n",
    "\n",
    "Copyright 2021 [Allen B. Downey](https://allendowney.com)\n",
    "\n",
    "License: [Creative Commons Attribution-NonCommercial-ShareAlike 4.0 International](https://creativecommons.org/licenses/by-nc-sa/4.0/)"
   ]
  }
 ],
 "metadata": {
  "celltoolbar": "Tags",
  "kernelspec": {
   "display_name": "Python 3",
   "language": "python",
   "name": "python3"
  },
  "language_info": {
   "codemirror_mode": {
    "name": "ipython",
    "version": 3
   },
   "file_extension": ".py",
   "mimetype": "text/x-python",
   "name": "python",
   "nbconvert_exporter": "python",
   "pygments_lexer": "ipython3",
   "version": "3.13.1"
  }
 },
 "nbformat": 4,
 "nbformat_minor": 2
}

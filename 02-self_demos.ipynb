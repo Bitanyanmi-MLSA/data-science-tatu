{
 "cells": [
  {
   "cell_type": "code",
   "execution_count": 2,
   "metadata": {},
   "outputs": [
    {
     "name": "stdout",
     "output_type": "stream",
     "text": [
      "    Feature1  Feature2  Feature3\n",
      "R1         1         2         3\n",
      "R2         4         5         6\n",
      "R3         7         8         9\n"
     ]
    }
   ],
   "source": [
    "import pandas as pd\n",
    "import numpy as np\n",
    "\n",
    "# Creating a matrix (dataset)\n",
    "data = [\n",
    "    [1, 2, 3],\n",
    "    [4, 5, 6],\n",
    "    [7, 8, 9]\n",
    "]\n",
    "df = pd.DataFrame(data, columns=['Feature1', 'Feature2', 'Feature3'], index=['R1', 'R2', 'R3'])\n",
    "\n",
    "print(df)"
   ]
  },
  {
   "cell_type": "code",
   "execution_count": 2,
   "metadata": {},
   "outputs": [
    {
     "data": {
      "text/html": [
       "<div>\n",
       "<style scoped>\n",
       "    .dataframe tbody tr th:only-of-type {\n",
       "        vertical-align: middle;\n",
       "    }\n",
       "\n",
       "    .dataframe tbody tr th {\n",
       "        vertical-align: top;\n",
       "    }\n",
       "\n",
       "    .dataframe thead th {\n",
       "        text-align: right;\n",
       "    }\n",
       "</style>\n",
       "<table border=\"1\" class=\"dataframe\">\n",
       "  <thead>\n",
       "    <tr style=\"text-align: right;\">\n",
       "      <th></th>\n",
       "      <th>R1</th>\n",
       "      <th>R2</th>\n",
       "      <th>R3</th>\n",
       "    </tr>\n",
       "  </thead>\n",
       "  <tbody>\n",
       "    <tr>\n",
       "      <th>Feature1</th>\n",
       "      <td>1</td>\n",
       "      <td>4</td>\n",
       "      <td>7</td>\n",
       "    </tr>\n",
       "    <tr>\n",
       "      <th>Feature2</th>\n",
       "      <td>2</td>\n",
       "      <td>5</td>\n",
       "      <td>8</td>\n",
       "    </tr>\n",
       "    <tr>\n",
       "      <th>Feature3</th>\n",
       "      <td>3</td>\n",
       "      <td>6</td>\n",
       "      <td>9</td>\n",
       "    </tr>\n",
       "  </tbody>\n",
       "</table>\n",
       "</div>"
      ],
      "text/plain": [
       "          R1  R2  R3\n",
       "Feature1   1   4   7\n",
       "Feature2   2   5   8\n",
       "Feature3   3   6   9"
      ]
     },
     "execution_count": 2,
     "metadata": {},
     "output_type": "execute_result"
    }
   ],
   "source": [
    "np.transpose(df)"
   ]
  },
  {
   "cell_type": "code",
   "execution_count": 2,
   "metadata": {},
   "outputs": [],
   "source": [
    "t = (1, 2, 3, 4)"
   ]
  },
  {
   "cell_type": "code",
   "execution_count": 6,
   "metadata": {},
   "outputs": [
    {
     "name": "stdout",
     "output_type": "stream",
     "text": [
      "1\t1\n",
      "2\t2\n",
      "3\t3\n",
      "4\t4\n"
     ]
    }
   ],
   "source": [
    "for number in t:\n",
    "    print(f'{number}\\t{number}')"
   ]
  },
  {
   "cell_type": "code",
   "execution_count": 4,
   "metadata": {},
   "outputs": [
    {
     "name": "stdout",
     "output_type": "stream",
     "text": [
      "01/27/2025\n",
      "01/30/2025\n",
      "02/03/2025\n",
      "02/06/2025\n",
      "02/10/2025\n",
      "02/13/2025\n",
      "02/17/2025\n",
      "02/20/2025\n",
      "02/24/2025\n",
      "02/27/2025\n",
      "03/03/2025\n",
      "03/06/2025\n",
      "03/10/2025\n",
      "03/13/2025\n",
      "03/17/2025\n",
      "03/20/2025\n",
      "03/24/2025\n",
      "03/27/2025\n",
      "03/31/2025\n",
      "04/03/2025\n",
      "04/07/2025\n",
      "04/10/2025\n",
      "04/14/2025\n",
      "04/17/2025\n",
      "04/21/2025\n",
      "04/24/2025\n",
      "04/28/2025\n",
      "05/01/2025\n",
      "05/05/2025\n",
      "05/08/2025\n",
      "05/12/2025\n",
      "05/15/2025\n",
      "05/19/2025\n",
      "05/22/2025\n",
      "05/26/2025\n",
      "05/29/2025\n",
      "06/02/2025\n",
      "06/05/2025\n",
      "06/09/2025\n",
      "06/12/2025\n",
      "06/16/2025\n",
      "06/19/2025\n",
      "06/23/2025\n",
      "06/26/2025\n",
      "06/30/2025\n",
      "07/03/2025\n",
      "07/07/2025\n",
      "07/10/2025\n",
      "07/14/2025\n",
      "07/17/2025\n",
      "07/21/2025\n",
      "07/24/2025\n",
      "07/28/2025\n",
      "07/31/2025\n",
      "08/04/2025\n",
      "08/07/2025\n",
      "08/11/2025\n",
      "08/14/2025\n",
      "08/18/2025\n",
      "08/21/2025\n",
      "08/25/2025\n",
      "08/28/2025\n",
      "09/01/2025\n",
      "09/04/2025\n",
      "09/08/2025\n",
      "09/11/2025\n",
      "09/15/2025\n",
      "09/18/2025\n",
      "09/22/2025\n",
      "09/25/2025\n",
      "09/29/2025\n",
      "10/02/2025\n",
      "10/06/2025\n",
      "10/09/2025\n",
      "10/13/2025\n",
      "10/16/2025\n",
      "10/20/2025\n",
      "10/23/2025\n",
      "10/27/2025\n",
      "10/30/2025\n",
      "11/03/2025\n",
      "11/06/2025\n",
      "11/10/2025\n",
      "11/13/2025\n",
      "11/17/2025\n",
      "11/20/2025\n",
      "11/24/2025\n",
      "11/27/2025\n",
      "12/01/2025\n",
      "12/04/2025\n",
      "12/08/2025\n",
      "12/11/2025\n",
      "12/15/2025\n",
      "12/18/2025\n",
      "12/22/2025\n",
      "12/25/2025\n",
      "12/29/2025\n",
      "01/01/2026\n",
      "01/05/2026\n",
      "01/08/2026\n",
      "01/12/2026\n",
      "01/15/2026\n",
      "01/19/2026\n",
      "01/22/2026\n",
      "01/26/2026\n",
      "01/29/2026\n",
      "02/02/2026\n",
      "02/05/2026\n",
      "02/09/2026\n",
      "02/12/2026\n",
      "02/16/2026\n",
      "02/19/2026\n",
      "02/23/2026\n",
      "02/26/2026\n",
      "03/02/2026\n",
      "03/05/2026\n",
      "03/09/2026\n",
      "03/12/2026\n",
      "03/16/2026\n",
      "03/19/2026\n",
      "03/23/2026\n",
      "03/26/2026\n",
      "03/30/2026\n",
      "04/02/2026\n",
      "04/06/2026\n",
      "04/09/2026\n",
      "04/13/2026\n",
      "04/16/2026\n",
      "04/20/2026\n",
      "04/23/2026\n",
      "04/27/2026\n",
      "04/30/2026\n",
      "05/04/2026\n",
      "05/07/2026\n",
      "05/11/2026\n",
      "05/14/2026\n",
      "05/18/2026\n",
      "05/21/2026\n",
      "05/25/2026\n",
      "05/28/2026\n",
      "06/01/2026\n",
      "06/04/2026\n",
      "06/08/2026\n",
      "06/11/2026\n",
      "06/15/2026\n",
      "06/18/2026\n",
      "06/22/2026\n",
      "06/25/2026\n",
      "06/29/2026\n",
      "07/02/2026\n",
      "07/06/2026\n",
      "07/09/2026\n",
      "07/13/2026\n",
      "07/16/2026\n",
      "07/20/2026\n",
      "07/23/2026\n",
      "07/27/2026\n",
      "07/30/2026\n",
      "08/03/2026\n",
      "08/06/2026\n",
      "08/10/2026\n",
      "08/13/2026\n",
      "08/17/2026\n",
      "08/20/2026\n",
      "08/24/2026\n",
      "08/27/2026\n",
      "08/31/2026\n",
      "09/03/2026\n",
      "09/07/2026\n",
      "09/10/2026\n",
      "09/14/2026\n",
      "09/17/2026\n",
      "09/21/2026\n",
      "09/24/2026\n",
      "09/28/2026\n",
      "10/01/2026\n",
      "10/05/2026\n",
      "10/08/2026\n",
      "10/12/2026\n",
      "10/15/2026\n",
      "10/19/2026\n",
      "10/22/2026\n",
      "10/26/2026\n",
      "10/29/2026\n",
      "11/02/2026\n",
      "11/05/2026\n",
      "11/09/2026\n",
      "11/12/2026\n",
      "11/16/2026\n",
      "11/19/2026\n",
      "11/23/2026\n",
      "11/26/2026\n",
      "11/30/2026\n",
      "12/03/2026\n",
      "12/07/2026\n",
      "12/10/2026\n",
      "12/14/2026\n",
      "12/17/2026\n",
      "12/21/2026\n",
      "12/24/2026\n"
     ]
    }
   ],
   "source": [
    "from datetime import timedelta\n",
    "start_date = pd.Timestamp('2025-01-27')\n",
    "dates = [start_date]\n",
    "for i in range(1, 200):\n",
    "    if i % 2 == 0:\n",
    "        next_date = dates[-1] + timedelta(days=4)\n",
    "    else:\n",
    "        next_date = dates[-1] + timedelta(days=3)\n",
    "    dates.append(next_date)\n",
    "\n",
    "for date in dates:\n",
    "    print(date.strftime('%m/%d/%Y'))"
   ]
  },
  {
   "cell_type": "code",
   "execution_count": 5,
   "metadata": {},
   "outputs": [],
   "source": [
    "year = [2009, 2010, 2011, 2012, 2013, 2014, 2015, 2016, 2017, 2018]"
   ]
  },
  {
   "cell_type": "code",
   "execution_count": 6,
   "metadata": {},
   "outputs": [],
   "source": [
    "import matplotlib.pyplot as plt"
   ]
  },
  {
   "cell_type": "code",
   "execution_count": 30,
   "metadata": {},
   "outputs": [
    {
     "data": {
      "text/plain": [
       "[<matplotlib.lines.Line2D at 0x169b1200690>]"
      ]
     },
     "execution_count": 30,
     "metadata": {},
     "output_type": "execute_result"
    },
    {
     "data": {
      "image/png": "[encoded data removed]",
      "text/plain": [
       "<Figure size 640x480 with 1 Axes>"
      ]
     },
     "metadata": {},
     "output_type": "display_data"
    }
   ],
   "source": [
    "# plt.plot(year, 'go--', linewidth = 2, markersize = 12)\n",
    "# plt.plot(year, 'go--', linewidth = 2, markersize = 12)\n",
    "# plt.show()\n",
    "plt.plot(year, 'r*--', linewidth = 2, markersize = 10)"
   ]
  },
  {
   "cell_type": "code",
   "execution_count": 8,
   "metadata": {},
   "outputs": [
    {
     "name": "stdout",
     "output_type": "stream",
     "text": [
      "VARIENT: PRO\n",
      "PART_NOS: AHL-PRMC-ZAOSNO1OW50-1000\n",
      "GRADE: 10W-50 API SN JASO MA-2 14\n",
      "PACK_SIZE_ltr: Stroke\n",
      "Recommended_for: Motorcycles\n",
      "RTP: 413\n",
      "MRP: 1148\n"
     ]
    }
   ],
   "source": [
    "data_string = 'PRO AHL-PRMC-ZAOSNO1OW50-1000 10W-50 API SN JASO MA-2 14 Stroke Motorcycles 413 1148'\n",
    "columns = data_string.rsplit(' ', 4)\n",
    "\n",
    "VARIENT = columns[0].split(' ')[0]\n",
    "PART_NOS = columns[0].split(' ')[1]\n",
    "GRADE = ' '.join(columns[0].split(' ')[2:])\n",
    "PACK_SIZE_ltr = columns[1]\n",
    "Recommended_for = columns[2]\n",
    "RTP = int(columns[3])\n",
    "MRP = int(columns[4])\n",
    "\n",
    "print(f'VARIENT: {VARIENT}')\n",
    "print(f'PART_NOS: {PART_NOS}')\n",
    "print(f'GRADE: {GRADE}')\n",
    "print(f'PACK_SIZE_ltr: {PACK_SIZE_ltr}')\n",
    "print(f'Recommended_for: {Recommended_for}')\n",
    "print(f'RTP: {RTP}')\n",
    "print(f'MRP: {MRP}')"
   ]
  },
  {
   "cell_type": "code",
   "execution_count": 1,
   "metadata": {},
   "outputs": [
    {
     "name": "stdout",
     "output_type": "stream",
     "text": [
      "['c', '2', 'b', '4', '5']\n"
     ]
    }
   ],
   "source": [
    "alpha = \"c2b45\"\n",
    "split_alpha = [char for char in alpha]\n",
    "print(split_alpha)"
   ]
  },
  {
   "cell_type": "code",
   "execution_count": null,
   "metadata": {},
   "outputs": [],
   "source": []
  }
 ],
 "metadata": {
  "kernelspec": {
   "display_name": "Python 3",
   "language": "python",
   "name": "python3"
  },
  "language_info": {
   "codemirror_mode": {
    "name": "ipython",
    "version": 3
   },
   "file_extension": ".py",
   "mimetype": "text/x-python",
   "name": "python",
   "nbconvert_exporter": "python",
   "pygments_lexer": "ipython3",
   "version": "3.13.1"
  }
 },
 "nbformat": 4,
 "nbformat_minor": 2
}

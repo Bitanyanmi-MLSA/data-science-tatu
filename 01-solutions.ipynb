{
 "cells": [
  {
   "cell_type": "code",
   "execution_count": 2,
   "metadata": {},
   "outputs": [],
   "source": [
    "#%pip install pandas numpy\n",
    "\n",
    "import pandas as pd\n",
    "import numpy as np"
   ]
  },
  {
   "cell_type": "markdown",
   "metadata": {},
   "source": [
    "**Exercise:** Any two people with different birthdays have a \"Double Day\" when one is twice as old as the other.\n",
    "Suppose you are given two `Timestamp` values, `d1` and `d2`, that represent birthdays for two people.  Use `Timestamp` arithmetic to compute their double day.\n",
    "With the following dates, the result should be December 19, 2009."
   ]
  },
  {
   "cell_type": "code",
   "execution_count": 9,
   "metadata": {},
   "outputs": [],
   "source": [
    "d1 = pd.Timestamp('2003-07-12') # Older person\n",
    "d2 = pd.Timestamp('2006-09-30') # Younger person"
   ]
  },
  {
   "cell_type": "code",
   "execution_count": 37,
   "metadata": {},
   "outputs": [
    {
     "name": "stdout",
     "output_type": "stream",
     "text": [
      "Double Day: Saturday December 19, 2009 00:00:00AM\n",
      "\n",
      "Runned On: January, 28 2025; at 08:21:33AM\n"
     ]
    }
   ],
   "source": [
    "#Get the older and younger person dates\n",
    "older, younger = min(d1, d2), max(d1, d2)\n",
    "\n",
    "#calculate the difference of ages\n",
    "age_difference = younger - older\n",
    "\n",
    "#calculate the Double Day\n",
    "double_day = f'Double Day: {(younger + age_difference)\n",
    "                            .strftime(\"%A %B %d, %Y %H:%M:%S%p\")}\\n\\nRunned On: {(pd.Timestamp.now())\n",
    "                                                                                  .strftime(\"%B, %d %Y; at %H:%M:%S%p\")}'\n",
    "#.strftime()\n",
    "\n",
    "print(double_day)"
   ]
  },
  {
   "cell_type": "code",
   "execution_count": null,
   "metadata": {},
   "outputs": [],
   "source": []
  }
 ],
 "metadata": {
  "kernelspec": {
   "display_name": "Python 3",
   "language": "python",
   "name": "python3"
  },
  "language_info": {
   "codemirror_mode": {
    "name": "ipython",
    "version": 3
   },
   "file_extension": ".py",
   "mimetype": "text/x-python",
   "name": "python",
   "nbconvert_exporter": "python",
   "pygments_lexer": "ipython3",
   "version": "3.13.1"
  }
 },
 "nbformat": 4,
 "nbformat_minor": 2
}
